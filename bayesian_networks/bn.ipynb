{
 "cells": [
  {
   "cell_type": "code",
   "execution_count": 32,
   "id": "526c3896",
   "metadata": {},
   "outputs": [],
   "source": [
    "from pgmpy.models import DiscreteBayesianNetwork\n",
    "from pgmpy.factors.discrete import TabularCPD\n",
    "from pgmpy.inference import VariableElimination\n",
    "import sys"
   ]
  },
  {
   "cell_type": "markdown",
   "id": "62f8b684",
   "metadata": {},
   "source": [
    "## Initialising Bayesian Network Model"
   ]
  },
  {
   "cell_type": "code",
   "execution_count": null,
   "id": "e1807cfb",
   "metadata": {},
   "outputs": [
    {
     "name": "stdout",
     "output_type": "stream",
     "text": [
      "Model is valid: True\n"
     ]
    }
   ],
   "source": [
    "## ORDER MATTERS!!\n",
    "model = DiscreteBayesianNetwork([('Burglary', 'Alarm'), ('Earthquake', 'Alarm'), ('Alarm','John'), ('Alarm','Mary')])\n",
    "\n",
    "# P(Burglary)\n",
    "cpd_burglary = TabularCPD(variable='Burglary', variable_card=2, values=[[0.6], [0.4]])\n",
    "\n",
    "# P(Earthquake)\n",
    "cpd_earthquake = TabularCPD(variable='Earthquake', variable_card=2, values=[[0.998], [0.002]])\n",
    "\n",
    "# P(Alarm | Burglary, Earthquake)\n",
    "cpd_Alarm = TabularCPD(variable='Alarm',variable_card=2, values =[\n",
    "                                        [0.99, 0.71, 0.06, 0.05],  # P(Alarm=0)\n",
    "                                        [0.01, 0.29, 0.94, 0.95]   # P(Alarm=1)\n",
    "                                    ],\n",
    "                                  evidence = ['Burglary', 'Earthquake'],\n",
    "                                  evidence_card=[2, 2])\n",
    "\n",
    "# P(John | Alarm)\n",
    "cpd_John = TabularCPD(variable='John', variable_card=2, values = [\n",
    "                                    [0.95, 0.1],  # P(John=0)\n",
    "                                    [0.05, 0.9]], # P(John=1)\n",
    "                                    evidence = ['Alarm'],\n",
    "                                    evidence_card=[2])\n",
    "\n",
    "# P(Mary | Alarm)\n",
    "cpd_Mary = TabularCPD(variable='Mary', variable_card=2, values = [\n",
    "                                    [0.99, 0.3], # P(Mary=0)\n",
    "                                    [0.01, 0.7]], # P(Mary=1)\n",
    "                                    evidence = ['Alarm'],\n",
    "                                    evidence_card=[2])\n",
    "\n",
    "model.add_cpds(cpd_burglary, cpd_earthquake, cpd_Alarm, cpd_John, cpd_Mary)\n",
    "print(\"Model is valid:\", model.check_model())"
   ]
  },
  {
   "cell_type": "code",
   "execution_count": 31,
   "id": "c5c2b15f",
   "metadata": {},
   "outputs": [
    {
     "name": "stdout",
     "output_type": "stream",
     "text": [
      "+------------+---------------+---------------+---------------+---------------+\n",
      "| Burglary   | Burglary(0)   | Burglary(0)   | Burglary(1)   | Burglary(1)   |\n",
      "+------------+---------------+---------------+---------------+---------------+\n",
      "| Earthquake | Earthquake(0) | Earthquake(1) | Earthquake(0) | Earthquake(1) |\n",
      "+------------+---------------+---------------+---------------+---------------+\n",
      "| Alarm(0)   | 0.99          | 0.71          | 0.06          | 0.05          |\n",
      "+------------+---------------+---------------+---------------+---------------+\n",
      "| Alarm(1)   | 0.01          | 0.29          | 0.94          | 0.95          |\n",
      "+------------+---------------+---------------+---------------+---------------+\n"
     ]
    }
   ],
   "source": [
    "print(model.get_cpds('Alarm'))"
   ]
  },
  {
   "cell_type": "markdown",
   "id": "c130f354",
   "metadata": {},
   "source": [
    "## Inference with Bayesian Network Model"
   ]
  },
  {
   "cell_type": "code",
   "execution_count": 33,
   "id": "ef99504e",
   "metadata": {},
   "outputs": [],
   "source": [
    "# more efficient inference algorithm\n",
    "infer = VariableElimination(model)"
   ]
  },
  {
   "cell_type": "code",
   "execution_count": 35,
   "id": "d437c24a",
   "metadata": {},
   "outputs": [
    {
     "name": "stdout",
     "output_type": "stream",
     "text": [
      "+-------------+---------------+----------------------------+\n",
      "| Burglary    | Earthquake    |   phi(Burglary,Earthquake) |\n",
      "+=============+===============+============================+\n",
      "| Burglary(0) | Earthquake(0) |                     0.5988 |\n",
      "+-------------+---------------+----------------------------+\n",
      "| Burglary(0) | Earthquake(1) |                     0.0012 |\n",
      "+-------------+---------------+----------------------------+\n",
      "| Burglary(1) | Earthquake(0) |                     0.3992 |\n",
      "+-------------+---------------+----------------------------+\n",
      "| Burglary(1) | Earthquake(1) |                     0.0008 |\n",
      "+-------------+---------------+----------------------------+\n"
     ]
    }
   ],
   "source": [
    "# Marginal probability of Burglary & Earthquake\n",
    "phi_query = infer.query(['Burglary','Earthquake'],joint=True)\n",
    "print(phi_query)"
   ]
  },
  {
   "cell_type": "code",
   "execution_count": 43,
   "id": "41f86dcd",
   "metadata": {},
   "outputs": [
    {
     "name": "stdout",
     "output_type": "stream",
     "text": [
      "+-------------+-----------------+\n",
      "| Burglary    |   phi(Burglary) |\n",
      "+=============+=================+\n",
      "| Burglary(0) |          0.0379 |\n",
      "+-------------+-----------------+\n",
      "| Burglary(1) |          0.9621 |\n",
      "+-------------+-----------------+\n"
     ]
    }
   ],
   "source": [
    "# Probability of Burglary given Mary calls\n",
    "phi_query = infer.query(['Burglary'],evidence={'Mary':1},joint=True)\n",
    "print(phi_query)\n"
   ]
  },
  {
   "cell_type": "code",
   "execution_count": 44,
   "id": "d28d503f",
   "metadata": {},
   "outputs": [
    {
     "name": "stdout",
     "output_type": "stream",
     "text": [
      "+-------------+-----------------+\n",
      "| Burglary    |   phi(Burglary) |\n",
      "+=============+=================+\n",
      "| Burglary(0) |          0.1864 |\n",
      "+-------------+-----------------+\n",
      "| Burglary(1) |          0.8136 |\n",
      "+-------------+-----------------+\n"
     ]
    }
   ],
   "source": [
    "# Probability of Burglary given ONLY Mary Calls\n",
    "phi_query = infer.query(['Burglary'],evidence={'Mary':1,'John':0},joint=True)\n",
    "print(phi_query)"
   ]
  },
  {
   "cell_type": "code",
   "execution_count": 45,
   "id": "5b55195a",
   "metadata": {},
   "outputs": [
    {
     "name": "stdout",
     "output_type": "stream",
     "text": [
      "+---------------+-------------------+\n",
      "| Earthquake    |   phi(Earthquake) |\n",
      "+===============+===================+\n",
      "| Earthquake(0) |            0.9971 |\n",
      "+---------------+-------------------+\n",
      "| Earthquake(1) |            0.0029 |\n",
      "+---------------+-------------------+\n"
     ]
    }
   ],
   "source": [
    "# Probability of Earthquake given Mary and John calls\n",
    "phi_query = infer.query(['Earthquake'],evidence={'Mary':1,'John':1},joint=True)\n",
    "print(phi_query)"
   ]
  }
 ],
 "metadata": {
  "kernelspec": {
   "display_name": "ml-env",
   "language": "python",
   "name": "python3"
  },
  "language_info": {
   "codemirror_mode": {
    "name": "ipython",
    "version": 3
   },
   "file_extension": ".py",
   "mimetype": "text/x-python",
   "name": "python",
   "nbconvert_exporter": "python",
   "pygments_lexer": "ipython3",
   "version": "3.11.3"
  }
 },
 "nbformat": 4,
 "nbformat_minor": 5
}
