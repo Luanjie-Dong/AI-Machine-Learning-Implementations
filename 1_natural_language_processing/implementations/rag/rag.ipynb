{
 "cells": [
  {
   "cell_type": "code",
   "execution_count": 5,
   "metadata": {},
   "outputs": [],
   "source": [
    "from langchain_community.document_loaders import WebBaseLoader\n",
    "from langchain_text_splitters import RecursiveCharacterTextSplitter\n",
    "from langchain_community.vectorstores import FAISS\n",
    "from langchain_core.prompts import ChatPromptTemplate\n",
    "from langchain_core.runnables import RunnableLambda, RunnablePassthrough\n",
    "from langchain_core.output_parsers import StrOutputParser\n",
    "from langchain.embeddings import HuggingFaceEmbeddings\n",
    "from langchain_google_genai import ChatGoogleGenerativeAI\n",
    "from sentence_transformers import CrossEncoder\n",
    "import re\n",
    "import os\n",
    "import textwrap"
   ]
  },
  {
   "cell_type": "markdown",
   "metadata": {},
   "source": [
    "## LOAD DATA"
   ]
  },
  {
   "cell_type": "code",
   "execution_count": 6,
   "metadata": {},
   "outputs": [
    {
     "name": "stdout",
     "output_type": "stream",
     "text": [
      "\n",
      "\n",
      "False or misleading statements by Donald Trump - Wikipedia\n",
      "\n",
      "Jump to content\n",
      "\n",
      "Main menu\n",
      "\n",
      "Main menu\n",
      "\n"
     ]
    }
   ],
   "source": [
    "loader = WebBaseLoader(\"https://en.wikipedia.org/wiki/False_or_misleading_statements_by_Donald_Trump\")\n",
    "docs = loader.load()\n",
    "\n",
    "for doc in docs:\n",
    "    doc.page_content = re.sub(r'\\n{3,}', '\\n\\n', doc.page_content) #remove access white/blank spaces\n",
    "print(docs[0].page_content[:100])"
   ]
  },
  {
   "cell_type": "code",
   "execution_count": 7,
   "metadata": {},
   "outputs": [
    {
     "name": "stdout",
     "output_type": "stream",
     "text": [
      "611\n"
     ]
    },
    {
     "data": {
      "text/plain": [
       "[Document(metadata={'source': 'https://en.wikipedia.org/wiki/False_or_misleading_statements_by_Donald_Trump', 'title': 'False or misleading statements by Donald Trump - Wikipedia', 'language': 'en'}, page_content='False or misleading statements by Donald Trump - Wikipedia\\n\\nJump to content\\n\\nMain menu\\n\\nMain menu\\nmove to sidebar\\nhide\\n\\n\\t\\tNavigation\\n\\t\\n\\nMain pageContentsCurrent eventsRandom articleAbout WikipediaContact us\\n\\n\\t\\tContribute\\n\\t\\n\\nHelpLearn to editCommunity portalRecent changesUpload fileSpecial pages\\n\\nSearch\\n\\nSearch\\n\\nAppearance\\n\\nDonate\\n\\nCreate account\\n\\nLog in\\n\\nPersonal tools\\n\\nDonate Create account Log in\\n\\n\\t\\tPages for logged out editors learn more\\n\\nContributionsTalk\\n\\nContents\\nmove to sidebar\\nhide\\n\\n(Top)\\n\\n1\\nVeracity and politics\\n\\nToggle Veracity and politics subsection\\n\\n1.1\\nRepetition\\n\\n1.2\\nBullshit\\n\\n2\\nBusiness career\\n\\nToggle Business career subsection\\n\\n2.1\\nReal estate\\n\\n2.2\\nOther investments and debt\\n\\n2.3\\nPhilanthropy\\n\\n2.4\\nSports\\n\\n2.5\\nOther\\n\\n2.6\\nPerceptions\\n\\n3\\nIn The Art of the Deal\\n\\n4\\nSeptember 11 attacks\\n\\n5\\n2016 presidential campaign\\n\\nToggle 2016 presidential campaign subsection\\n\\n5.1\\nBorder wall with Mexico\\n\\n6\\nFirst term\\n\\nToggle First term subsection\\n\\n6.1\\nFact-checking Trump'),\n",
       " Document(metadata={'source': 'https://en.wikipedia.org/wiki/False_or_misleading_statements_by_Donald_Trump', 'title': 'False or misleading statements by Donald Trump - Wikipedia', 'language': 'en'}, page_content='4\\nSeptember 11 attacks\\n\\n5\\n2016 presidential campaign\\n\\nToggle 2016 presidential campaign subsection\\n\\n5.1\\nBorder wall with Mexico\\n\\n6\\nFirst term\\n\\nToggle First term subsection\\n\\n6.1\\nFact-checking Trump\\n\\n6.2\\nCredibility polling\\n\\n6.3\\nRe-election campaign\\n\\n6.4\\nCommentary and analysis\\n\\n6.4.1\\nPurpose and effect\\n\\n6.5\\nSpecific topics\\n\\n6.5.1\\nInaugural crowd\\n\\n6.5.2\\n2016 presidential election\\n\\n6.5.3\\nDenial of Russian hacking and election interference\\n\\n6.5.4\\nDenial of collusion with Russia\\n\\n6.5.5\\nDismissal of FBI director\\n\\n6.5.6\\nPersonal lawyer\\n\\n6.5.7\\nSpygate conspiracy theory\\n\\n6.5.8\\n2018 California wildfires\\n\\n6.5.9\\nSpecial counsel investigation\\n\\n6.5.10\\nEconomy\\n\\n6.5.11\\nFamily separation policy\\n\\n6.5.12\\nE. Jean Carroll sexual assault accusation\\n\\n6.5.13\\nArticle II and unlimited executive power\\n\\n6.5.14\\nHurricane Dorian\\n\\n6.5.15\\nMeeting with Iran\\n\\n6.5.16\\nU.S military pullout from Kurdistan\\n\\n6.5.17\\nObamagate conspiracy theory\\n\\n6.5.18\\nJoe Scarborough murder conspiracy theory'),\n",
       " Document(metadata={'source': 'https://en.wikipedia.org/wiki/False_or_misleading_statements_by_Donald_Trump', 'title': 'False or misleading statements by Donald Trump - Wikipedia', 'language': 'en'}, page_content='6.5.14\\nHurricane Dorian\\n\\n6.5.15\\nMeeting with Iran\\n\\n6.5.16\\nU.S military pullout from Kurdistan\\n\\n6.5.17\\nObamagate conspiracy theory\\n\\n6.5.18\\nJoe Scarborough murder conspiracy theory\\n\\n6.5.19\\nAdvances for black Americans\\n\\n6.5.20\\nRepublican Party approval rating tweets\\n\\n6.5.21\\nIlhan Omar\\n\\n6.5.22\\nCOVID-19 pandemic\\n\\n6.5.23\\nThe military and veterans\\n\\n6.5.24\\nVoting by mail\\n\\n6.5.25\\n2020 presidential election\\n\\n6.5.26\\nJanuary 6 attack\\n\\n7\\nBetween terms\\n\\nToggle Between terms subsection\\n\\n7.1\\n2021 California gubernatorial recall election\\n\\n7.2\\nCOVID-19 healthcare discrimination against white people\\n\\n7.3\\nSpygate conspiracy theory\\n\\n7.4\\nDrop boxes in the 2020 presidential election in Wisconsin\\n\\n7.5\\nFederal prosecution (government documents case)\\n\\n7.6\\nFederal prosecution (2020 election case)\\n\\n7.7\\nClaim of intervening in 2018 Florida vote count\\n\\n7.8\\n2022 announcement speech\\n\\n7.9\\n2023 CNN town hall\\n\\n7.10\\n2024 presidential campaign\\n\\n7.11\\nFalse and misleading statements by topic'),\n",
       " Document(metadata={'source': 'https://en.wikipedia.org/wiki/False_or_misleading_statements_by_Donald_Trump', 'title': 'False or misleading statements by Donald Trump - Wikipedia', 'language': 'en'}, page_content='7.7\\nClaim of intervening in 2018 Florida vote count\\n\\n7.8\\n2022 announcement speech\\n\\n7.9\\n2023 CNN town hall\\n\\n7.10\\n2024 presidential campaign\\n\\n7.11\\nFalse and misleading statements by topic\\n\\n7.11.1\\n2024 presidential election\\n\\n7.11.2\\nImmigration and crime\\n\\n7.11.3\\nGlobal warming and climate change\\n\\n7.11.4\\nForeign policy\\n\\n7.11.5\\nHealthcare\\n\\n7.11.6\\nAbortion\\n\\n7.11.6.1\\nRoe v. Wade\\n\\n7.11.7\\nLGBTQ claims\\n\\n7.11.8\\nIndictments\\n\\n7.11.9\\nMusic Modernization Act\\n\\n7.11.10\\nReal vs. AI-generated images\\n\\n7.11.11\\nHurricane Helene\\n\\n7.12\\nEvents\\n\\n7.12.1\\nBiden vs. Trump presidential debate\\n\\n7.12.2\\nSpeech at the Republican Convention\\n\\n7.12.3\\nCPAC Speech\\n\\n7.12.4\\nNABJ interview\\n\\n7.12.5\\nMar-a-Lago news conference\\n\\n7.12.6\\nElon Musk interview\\n\\n7.12.7\\nHowell, Michigan speech\\n\\n7.12.8\\nHarris vs. Trump presidential debate\\n\\n8\\nSecond term\\n\\nToggle Second term subsection\\n\\n8.1\\nEvents\\n\\n8.1.1\\nInaugural statements\\n\\n8.1.2\\nSpeech to a joint session of Congress\\n\\n8.1.3\\nNews conference about crime in Washington, D.C.'),\n",
       " Document(metadata={'source': 'https://en.wikipedia.org/wiki/False_or_misleading_statements_by_Donald_Trump', 'title': 'False or misleading statements by Donald Trump - Wikipedia', 'language': 'en'}, page_content='8\\nSecond term\\n\\nToggle Second term subsection\\n\\n8.1\\nEvents\\n\\n8.1.1\\nInaugural statements\\n\\n8.1.2\\nSpeech to a joint session of Congress\\n\\n8.1.3\\nNews conference about crime in Washington, D.C.\\n\\n8.1.4\\nPress conference about autism, Tylenol, and vaccines\\n\\n8.1.5\\nSeptember 2025 speech at the United Nations\\n\\n8.2\\nFalse and misleading statements by topic\\n\\n8.2.1\\nBlame for start of Russo-Ukrainian War\\n\\n8.2.2\\nJeffrey Epstein hoax\\n\\n8.2.3\\nUncle\\'s acquaintance with Ted Kaczynski\\n\\n8.2.4\\nAlleged apology from Tucker Carlson\\n\\n8.2.5\\nReducing drug prices\\n\\n8.2.6\\nFiring of Erika McEntarfer\\n\\n9\\nSanewashing of Donald Trump\\n\\n10\\n\"Two weeks\"\\n\\n11\\nPublic opinion\\n\\n12\\nSee also\\n\\n13\\nReferences\\n\\n14\\nFurther reading\\n\\nToggle Further reading subsection\\n\\n14.1\\nBooks\\n\\n14.2\\nPapers and chapters\\n\\n15\\nExternal links\\n\\nToggle External links subsection\\n\\n15.1\\nFact-checker archives\\n\\nToggle the table of contents\\n\\nFalse or misleading statements by Donald Trump\\n\\n7 languages\\n\\nالعربيةEspañolفارسیItalianoРусскийTiếng Việt中文\\n\\nEdit links'),\n",
       " Document(metadata={'source': 'https://en.wikipedia.org/wiki/False_or_misleading_statements_by_Donald_Trump', 'title': 'False or misleading statements by Donald Trump - Wikipedia', 'language': 'en'}, page_content=\"15.1\\nFact-checker archives\\n\\nToggle the table of contents\\n\\nFalse or misleading statements by Donald Trump\\n\\n7 languages\\n\\nالعربيةEspañolفارسیItalianoРусскийTiếng Việt中文\\n\\nEdit links\\n\\nArticleTalk\\n\\nEnglish\\n\\nReadView sourceView history\\n\\nTools\\n\\nTools\\nmove to sidebar\\nhide\\n\\n\\t\\tActions\\n\\t\\n\\nReadView sourceView history\\n\\n\\t\\tGeneral\\n\\t\\n\\nWhat links hereRelated changesUpload filePermanent linkPage informationCite this pageGet shortened URLDownload QR code\\n\\n\\t\\tPrint/export\\n\\t\\n\\nDownload as PDFPrintable version\\n\\n\\t\\tIn other projects\\n\\t\\n\\nWikimedia CommonsWikidata item\\n\\nAppearance\\nmove to sidebar\\nhide\\n\\nFrom Wikipedia, the free encyclopedia\\n\\nThis article may be too long to read and navigate comfortably. Consider splitting content into sub-articles, condensing it, or adding subheadings. Please discuss this issue on the article's talk page. (September 2024)\"),\n",
       " Document(metadata={'source': 'https://en.wikipedia.org/wiki/False_or_misleading_statements_by_Donald_Trump', 'title': 'False or misleading statements by Donald Trump - Wikipedia', 'language': 'en'}, page_content='Fact-checkers from The Washington Post[1] (top, monthly), the Toronto Star[2] and CNN[3][4] (bottom, weekly) compiled data on \"false or misleading claims\" and \"false claims\", respectively. The peaks corresponded in late 2018 to the midterm elections, in late 2019 to his impeachment inquiry, and in late 2020 to the presidential election. The Post reported 30,573 false or misleading claims in four years,[1] an average of more than 20.9 per day.\\n\\nThis article is part of a series aboutDonald Trump'),\n",
       " Document(metadata={'source': 'https://en.wikipedia.org/wiki/False_or_misleading_statements_by_Donald_Trump', 'title': 'False or misleading statements by Donald Trump - Wikipedia', 'language': 'en'}, page_content='This article is part of a series aboutDonald Trump\\n\\nBusiness and personal\\nAge and health\\nBusiness career\\nThe Trump Organization\\nwealth\\ntax returns\\ncryptocurrency\\nAmerican Civil War\\nConspiracy theories\\nEndorsements\\nEponyms\\nFascism\\nFalse or misleading statements\\nFamily\\nFoundation\\ngrants\\nAmerican football\\nGolf\\nHonors\\nJohn McCain comments\\nLegal affairs\\nindictments\\nMakeup\\nMedia career\\nThe Apprentice\\nbibliography\\nfilmography\\nMusk feud\\nNicknames\\nPublic image\\nin popular culture\\nin music\\nSNL parodies\\nbaby balloon\\ndance\\nhandshakes\\npseudonyms\\nRacial views\\nantisemitism\\nReligion\\nResidences\\nRhetoric\\nSecurity incidents\\nSexual misconduct allegations\\nEpstein ties\\nSocial media\\nTikTok controversy\\nTwitter\\nVoters\\nObama\\nSanders\\n\\n45th and 47thPresident of the United States\\nPresidencies\\nfirst\\nsecond\\nInaugurations\\nfirst\\nsecond\\nPortraits\\nPresidential library'),\n",
       " Document(metadata={'source': 'https://en.wikipedia.org/wiki/False_or_misleading_statements_by_Donald_Trump', 'title': 'False or misleading statements by Donald Trump - Wikipedia', 'language': 'en'}, page_content=\"Tenure\\nTimeline\\n2016\\nTransition\\n2017\\nFirst 100 days\\nQ1\\nQ2\\nQ3\\nQ4\\n2018\\nQ1\\nQ2\\nQ3\\nQ4\\n2019\\nQ1\\nQ2\\nQ3\\nQ4\\n2020\\nQ1\\nQ2\\nQ3\\nQ4\\n2021\\nQ1\\n2024\\nTransition\\n2025\\nFirst 100 days\\nQ1\\nQ2\\nQ3\\nQ4\\nExecutive actions\\nExecutive orders\\nFirst term\\nSecond term\\nProclamations\\nPardons\\nFirst term\\nSecond term\\nTrips\\n2017\\nRiyadh summit\\n2018\\nSingapore Summit\\nHelsinki Summit\\n2019\\nHanoi Summit\\nUnited Kingdom state visit\\nDMZ Summit\\n2020–21\\nNamaste Trump\\n2025\\nMiddle East visit\\nAlaska Summit\\nUnited Kingdom state visit\\nInternational\\nSpeeches\\nState of the Union Address\\n2018\\n2019\\n2020\\nJoint address to Congress\\n2017\\n2025\\nOval Office Address\\n2019\\n2020\\nFarewell address\\n2021\\nPublic speeches\\n2017 speech in Warsaw\\n2017 National Scout Jamboree\\nOpinion polls\\nFirst term\\n2017\\n2018\\n2019\\nSecond term\\nLegal affairs\\nFirst term\\nSecond term\\nProtests\\nFederal law enforcement deployment\\nSt. John's Church photo op\\nNo Kings protests\\n2020 presidential election overturning attempts\\nJanuary 6 Capitol attack\\nTimeline\\nReactions\\nDomestic\\nInternational\"),\n",
       " Document(metadata={'source': 'https://en.wikipedia.org/wiki/False_or_misleading_statements_by_Donald_Trump', 'title': 'False or misleading statements by Donald Trump - Wikipedia', 'language': 'en'}, page_content=\"Federal law enforcement deployment\\nSt. John's Church photo op\\nNo Kings protests\\n2020 presidential election overturning attempts\\nJanuary 6 Capitol attack\\nTimeline\\nReactions\\nDomestic\\nInternational\\nAftermath\\nFake electors plot\\nEastman memos\\nJeffrey Clark letter\\nPre-election lawsuits\\nPost-election lawsuits\\nTexas v. Pennsylvania\")]"
      ]
     },
     "execution_count": 7,
     "metadata": {},
     "output_type": "execute_result"
    }
   ],
   "source": [
    "text_splitter = RecursiveCharacterTextSplitter(chunk_size=1000,\n",
    "                                               chunk_overlap=200,\n",
    "                                               separators=[\"\\n\\n\",\"\\n\",\". \",\" \",\"\"])\n",
    "splits = text_splitter.split_documents(docs)\n",
    "print(len(splits))\n",
    "splits[:10]"
   ]
  },
  {
   "cell_type": "markdown",
   "metadata": {},
   "source": [
    "## CREATE STORE & RERANKER"
   ]
  },
  {
   "cell_type": "code",
   "execution_count": 8,
   "metadata": {},
   "outputs": [
    {
     "name": "stderr",
     "output_type": "stream",
     "text": [
      "D:\\luanjiedong\\AppData\\Local\\Temp\\3\\ipykernel_24432\\3042721516.py:8: LangChainDeprecationWarning: The class `HuggingFaceEmbeddings` was deprecated in LangChain 0.2.2 and will be removed in 1.0. An updated version of the class exists in the :class:`~langchain-huggingface package and should be used instead. To use it run `pip install -U :class:`~langchain-huggingface` and import as `from :class:`~langchain_huggingface import HuggingFaceEmbeddings``.\n",
      "  embedding=HuggingFaceEmbeddings(model_name=\"all-MiniLM-L6-v2\")\n"
     ]
    }
   ],
   "source": [
    "class Storage:\n",
    "    def __init__(self):\n",
    "        self.store = None\n",
    "        \n",
    "    def create_store(self, documents):\n",
    "        self.store = FAISS.from_documents(\n",
    "            documents=documents,  \n",
    "            embedding=HuggingFaceEmbeddings(model_name=\"all-MiniLM-L6-v2\")\n",
    "        )\n",
    "        \n",
    "    def get_retriever(self): \n",
    "        if self.store is None:\n",
    "            raise ValueError(\"Store not initialized. Call create_store first.\")\n",
    "        return self.store.as_retriever()\n",
    "    \n",
    "storage = Storage()\n",
    "storage.create_store(splits)"
   ]
  },
  {
   "cell_type": "code",
   "execution_count": 19,
   "metadata": {},
   "outputs": [],
   "source": [
    "def rerank_docs(reranker, query, docs, top_k=3):\n",
    "    pairs = [(query, doc.page_content) for doc in docs]\n",
    "    \n",
    "    scores = reranker.predict(pairs)\n",
    "    \n",
    "    scored_docs = [(doc, score) for doc, score in zip(docs, scores)]\n",
    "    scored_docs.sort(key=lambda x: x[1], reverse=True)\n",
    "    reranked_docs = [doc for doc, _ in scored_docs[:top_k]]\n",
    "    \n",
    "    def wrap_text(text, width=80):\n",
    "        return \"\\n\".join(textwrap.fill(line, width=width) for line in text.splitlines())\n",
    "\n",
    "    print(\"\\n=== Original Retrieved Documents (query + content) ===\")\n",
    "    for i, (q, doc_text) in enumerate(pairs):\n",
    "        print(f\"\\n[Doc {i+1}] Query:\")\n",
    "        print(wrap_text(q))\n",
    "        print(\"Content:\")\n",
    "        print(wrap_text(doc_text[:500] + \"...\" if len(doc_text) > 500 else doc_text))  \n",
    "\n",
    "    print(\"\\n=== Reranked Documents (Top K) ===\")\n",
    "    for i, doc in enumerate(reranked_docs):\n",
    "        print(f\"\\n[Reranked Doc {i+1}]\")\n",
    "        print(wrap_text(doc.page_content[:500] + \"...\" if len(doc.page_content) > 500 else doc.page_content))\n",
    "\n",
    "    return reranked_docs"
   ]
  },
  {
   "cell_type": "code",
   "execution_count": 23,
   "metadata": {},
   "outputs": [],
   "source": [
    "def make_reranking_retriever(reranker_model):\n",
    "    def retrieve_and_rerank(query: str):\n",
    "        retriever = storage.get_retriever()\n",
    "        initial_docs = retriever.invoke(query)\n",
    "        return rerank_docs(reranker_model, query, initial_docs, top_k=3)\n",
    "    return RunnableLambda(retrieve_and_rerank)\n",
    "\n",
    "reranker = CrossEncoder('cross-encoder/ms-marco-MiniLM-L-6-v2')\n",
    "reranking_retriever = make_reranking_retriever(reranker)"
   ]
  },
  {
   "cell_type": "markdown",
   "metadata": {},
   "source": [
    "## INVOKE RAG"
   ]
  },
  {
   "cell_type": "code",
   "execution_count": 24,
   "metadata": {},
   "outputs": [],
   "source": [
    "template = \"\"\"\n",
    "You are an expert assistant that answers questions strictly based on the provided context.  \n",
    "Follow these rules:\n",
    "\n",
    "1. Use only the information in the context below to answer the question.\n",
    "2. If the context does not contain enough information, respond with: \"I don't know based on the provided context.\"\n",
    "3. Keep your answer concise, clear, and factual.\n",
    "4. Do not speculate, infer beyond the text, or use outside knowledge.\n",
    "\n",
    "Context:\n",
    "{context}\n",
    "\n",
    "Question: {question}\n",
    "\n",
    "Answer:\n",
    "\"\"\"\n",
    "\n",
    "prompt = ChatPromptTemplate.from_template(template)\n",
    "\n",
    "llm = ChatGoogleGenerativeAI(\n",
    "    model=\"gemini-2.5-flash\", \n",
    "    google_api_key=os.getenv(\"gemini_key\")\n",
    ")\n",
    "\n",
    "\n",
    "rag_chain = (\n",
    "    {\"context\": reranking_retriever, \"question\": RunnablePassthrough()}\n",
    "    | prompt\n",
    "    | llm\n",
    "    | StrOutputParser()\n",
    ")\n"
   ]
  },
  {
   "cell_type": "code",
   "execution_count": 26,
   "metadata": {},
   "outputs": [
    {
     "name": "stdout",
     "output_type": "stream",
     "text": [
      "\n",
      "=== Original Retrieved Documents (query + content) ===\n",
      "\n",
      "[Doc 1] Query:\n",
      "How many false statements did trump make?\n",
      "Content:\n",
      "Commentary and analysis\n",
      "As president, Trump frequently made false statements in public speeches and\n",
      "remarks.[167][137][168][169] Trump uttered \"at least one false or misleading\n",
      "claim per day on 91 of his first 99 days\" in office according to The New York\n",
      "Times,[167] and 1,318 total in his first 263 days in office according to the\n",
      "\"Fact Checker\" political analysis column of The Washington Post.[170] By the\n",
      "Post's tally, it took Trump 601 days to reach 5,000 false or misleading\n",
      "statements and anot...\n",
      "\n",
      "[Doc 2] Query:\n",
      "How many false statements did trump make?\n",
      "Content:\n",
      "During his 2024 presidential campaign, Trump has made numerous false and\n",
      "misleading statements.[477][478][479] The large amount of lies and false\n",
      "statements have been attributed to Trump's rhetorical style described as using\n",
      "the big lie and firehose of falsehood propaganda technique.[21] During a 64\n",
      "minute news conference on August 8, 2024, NPR counted Trump making over 162\n",
      "\"misstatements, exaggerations and outright lies\" averaging more than two per\n",
      "minute. They described the amount of Trump's l...\n",
      "\n",
      "[Doc 3] Query:\n",
      "How many false statements did trump make?\n",
      "Content:\n",
      "Fact-checkers from The Washington Post[1] (top, monthly), the Toronto Star[2]\n",
      "and CNN[3][4] (bottom, weekly) compiled data on \"false or misleading claims\" and\n",
      "\"false claims\", respectively. The peaks corresponded in late 2018 to the midterm\n",
      "elections, in late 2019 to his impeachment inquiry, and in late 2020 to the\n",
      "presidential election. The Post reported 30,573 false or misleading claims in\n",
      "four years,[1] an average of more than 20.9 per day.\n",
      "\n",
      "This article is part of a series aboutDonald Trump\n",
      "\n",
      "[Doc 4] Query:\n",
      "How many false statements did trump make?\n",
      "Content:\n",
      "vte\n",
      "During and between his terms as President of the United States, Donald Trump has\n",
      "made tens of thousands of false or misleading claims. Fact-checkers at The\n",
      "Washington Post documented 30,573 false or misleading claims during his first\n",
      "presidential term, an average of 21 per day.[1][5][6][7] The Toronto Star\n",
      "tallied 5,276 false claims from January 2017 to June 2019, an average of six per\n",
      "day.[2] Commentators and fact-checkers have described Trump's lying as\n",
      "unprecedented in American politics,[...\n",
      "\n",
      "=== Reranked Documents (Top K) ===\n",
      "\n",
      "[Reranked Doc 1]\n",
      "Commentary and analysis\n",
      "As president, Trump frequently made false statements in public speeches and\n",
      "remarks.[167][137][168][169] Trump uttered \"at least one false or misleading\n",
      "claim per day on 91 of his first 99 days\" in office according to The New York\n",
      "Times,[167] and 1,318 total in his first 263 days in office according to the\n",
      "\"Fact Checker\" political analysis column of The Washington Post.[170] By the\n",
      "Post's tally, it took Trump 601 days to reach 5,000 false or misleading\n",
      "statements and anot...\n",
      "\n",
      "[Reranked Doc 2]\n",
      "During his 2024 presidential campaign, Trump has made numerous false and\n",
      "misleading statements.[477][478][479] The large amount of lies and false\n",
      "statements have been attributed to Trump's rhetorical style described as using\n",
      "the big lie and firehose of falsehood propaganda technique.[21] During a 64\n",
      "minute news conference on August 8, 2024, NPR counted Trump making over 162\n",
      "\"misstatements, exaggerations and outright lies\" averaging more than two per\n",
      "minute. They described the amount of Trump's l...\n",
      "\n",
      "[Reranked Doc 3]\n",
      "vte\n",
      "During and between his terms as President of the United States, Donald Trump has\n",
      "made tens of thousands of false or misleading claims. Fact-checkers at The\n",
      "Washington Post documented 30,573 false or misleading claims during his first\n",
      "presidential term, an average of 21 per day.[1][5][6][7] The Toronto Star\n",
      "tallied 5,276 false claims from January 2017 to June 2019, an average of six per\n",
      "day.[2] Commentators and fact-checkers have described Trump's lying as\n",
      "unprecedented in American politics,[...\n",
      "\n",
      "=== RAG RESULT ===\n",
      "Donald Trump made tens of thousands of false or misleading claims.  According to\n",
      "the provided context: *   The Washington Post documented 30,573 false or\n",
      "misleading claims during his first presidential term, averaging 21 per day. *\n",
      "The New York Times stated he uttered \"at least one false or misleading claim per\n",
      "day on 91 of his first 99 days\" in office. *   The Washington Post's \"Fact\n",
      "Checker\" tallied 1,318 total in his first 263 days, reached 5,000 in 601 days,\n",
      "and 10,000 in another 226 days. *   The Post found he averaged 15 false\n",
      "statements per day during 2018. *   The Toronto Star tallied 5,276 false claims\n",
      "from January 2017 to June 2019, an average of six per day. *   During a\n",
      "64-minute news conference on August 8, 2024, NPR counted over 162\n",
      "\"misstatements, exaggerations and outright lies.\"\n"
     ]
    }
   ],
   "source": [
    "result = rag_chain.invoke(\"How many false statements did trump make?\")\n",
    "wrapped = textwrap.fill(result, width=80) \n",
    "print(\"\\n=== RAG RESULT ===\")\n",
    "print(wrapped)"
   ]
  }
 ],
 "metadata": {
  "kernelspec": {
   "display_name": "ml-env",
   "language": "python",
   "name": "python3"
  },
  "language_info": {
   "codemirror_mode": {
    "name": "ipython",
    "version": 3
   },
   "file_extension": ".py",
   "mimetype": "text/x-python",
   "name": "python",
   "nbconvert_exporter": "python",
   "pygments_lexer": "ipython3",
   "version": "3.12.10"
  }
 },
 "nbformat": 4,
 "nbformat_minor": 2
}
