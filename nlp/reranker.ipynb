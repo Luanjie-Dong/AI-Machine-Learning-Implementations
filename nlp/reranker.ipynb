{
 "cells": [
  {
   "cell_type": "code",
   "execution_count": 5,
   "id": "b6d372ad",
   "metadata": {},
   "outputs": [
    {
     "name": "stdout",
     "output_type": "stream",
     "text": [
      "CrossEncoder(\n",
      "  (model): BertForSequenceClassification(\n",
      "    (bert): BertModel(\n",
      "      (embeddings): BertEmbeddings(\n",
      "        (word_embeddings): Embedding(30522, 384, padding_idx=0)\n",
      "        (position_embeddings): Embedding(512, 384)\n",
      "        (token_type_embeddings): Embedding(2, 384)\n",
      "        (LayerNorm): LayerNorm((384,), eps=1e-12, elementwise_affine=True)\n",
      "        (dropout): Dropout(p=0.1, inplace=False)\n",
      "      )\n",
      "      (encoder): BertEncoder(\n",
      "        (layer): ModuleList(\n",
      "          (0-5): 6 x BertLayer(\n",
      "            (attention): BertAttention(\n",
      "              (self): BertSdpaSelfAttention(\n",
      "                (query): Linear(in_features=384, out_features=384, bias=True)\n",
      "                (key): Linear(in_features=384, out_features=384, bias=True)\n",
      "                (value): Linear(in_features=384, out_features=384, bias=True)\n",
      "                (dropout): Dropout(p=0.1, inplace=False)\n",
      "              )\n",
      "              (output): BertSelfOutput(\n",
      "                (dense): Linear(in_features=384, out_features=384, bias=True)\n",
      "                (LayerNorm): LayerNorm((384,), eps=1e-12, elementwise_affine=True)\n",
      "                (dropout): Dropout(p=0.1, inplace=False)\n",
      "              )\n",
      "            )\n",
      "            (intermediate): BertIntermediate(\n",
      "              (dense): Linear(in_features=384, out_features=1536, bias=True)\n",
      "              (intermediate_act_fn): GELUActivation()\n",
      "            )\n",
      "            (output): BertOutput(\n",
      "              (dense): Linear(in_features=1536, out_features=384, bias=True)\n",
      "              (LayerNorm): LayerNorm((384,), eps=1e-12, elementwise_affine=True)\n",
      "              (dropout): Dropout(p=0.1, inplace=False)\n",
      "            )\n",
      "          )\n",
      "        )\n",
      "      )\n",
      "      (pooler): BertPooler(\n",
      "        (dense): Linear(in_features=384, out_features=384, bias=True)\n",
      "        (activation): Tanh()\n",
      "      )\n",
      "    )\n",
      "    (dropout): Dropout(p=0.1, inplace=False)\n",
      "    (classifier): Linear(in_features=384, out_features=1, bias=True)\n",
      "  )\n",
      "  (activation_fn): Identity()\n",
      ")\n"
     ]
    }
   ],
   "source": [
    "from sentence_transformers import CrossEncoder\n",
    "\n",
    "reranker = CrossEncoder('cross-encoder/ms-marco-MiniLM-L-6-v2')\n",
    "print(reranker)"
   ]
  },
  {
   "cell_type": "code",
   "execution_count": 18,
   "id": "b8a9470b",
   "metadata": {},
   "outputs": [
    {
     "name": "stdout",
     "output_type": "stream",
     "text": [
      "[('How do I reset my password?', 'Passwords must be 12+ characters...'), ('How do I reset my password?', \"Go to login → click 'Forgot Password' → check email.\"), ('How do I reset my password?', 'We use bcrypt for password hashing...'), ('How do I reset my password?', 'THIS IS A RANDOM PASSWORD RESET TEXT')]\n",
      "[-6.3418283 -1.3398985 -7.283246   1.2463999]\n"
     ]
    }
   ],
   "source": [
    "query = \"How do I reset my password?\"\n",
    "retrieved_docs = [\n",
    "    \"Passwords must be 12+ characters...\",\n",
    "    \"Go to login → click 'Forgot Password' → check email.\",\n",
    "    \"We use bcrypt for password hashing...\",\n",
    "    \"THIS IS A RANDOM PASSWORD RESET TEXT\"\n",
    "]\n",
    "\n",
    "pairs = [(query, doc) for doc in retrieved_docs]\n",
    "print(pairs)\n",
    "scores = reranker.predict(pairs)\n",
    "print(scores)"
   ]
  },
  {
   "cell_type": "code",
   "execution_count": 17,
   "id": "0ea50de6",
   "metadata": {},
   "outputs": [
    {
     "name": "stdout",
     "output_type": "stream",
     "text": [
      "[('THIS IS A RANDOM PASSWORD RESET TEXT', np.float32(1.2463999)), (\"Go to login → click 'Forgot Password' → check email.\", np.float32(-1.3398985)), ('Passwords must be 12+ characters...', np.float32(-6.3418283)), ('We use bcrypt for password hashing...', np.float32(-7.283246))]\n"
     ]
    },
    {
     "data": {
      "text/plain": [
       "'THIS IS A RANDOM PASSWORD RESET TEXT'"
      ]
     },
     "execution_count": 17,
     "metadata": {},
     "output_type": "execute_result"
    }
   ],
   "source": [
    "reranked = sorted(zip(retrieved_docs, scores), key=lambda x: x[1], reverse=True)\n",
    "print(reranked)\n",
    "top_doc = reranked[0][0]  # The most relevant!\n",
    "top_doc"
   ]
  }
 ],
 "metadata": {
  "kernelspec": {
   "display_name": "ml-env",
   "language": "python",
   "name": "python3"
  },
  "language_info": {
   "codemirror_mode": {
    "name": "ipython",
    "version": 3
   },
   "file_extension": ".py",
   "mimetype": "text/x-python",
   "name": "python",
   "nbconvert_exporter": "python",
   "pygments_lexer": "ipython3",
   "version": "3.11.3"
  }
 },
 "nbformat": 4,
 "nbformat_minor": 5
}
