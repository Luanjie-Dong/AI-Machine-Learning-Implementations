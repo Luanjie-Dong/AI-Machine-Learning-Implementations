{
 "cells": [
  {
   "cell_type": "code",
   "execution_count": 56,
   "id": "3b5cf50e",
   "metadata": {},
   "outputs": [
    {
     "name": "stdout",
     "output_type": "stream",
     "text": [
      "CUDA available: True\n",
      "Device count: 1\n"
     ]
    }
   ],
   "source": [
    "import torch\n",
    "import torch.nn as nn\n",
    "import torch.optim as optim\n",
    "import torch.utils.data as data\n",
    "import math\n",
    "import copy\n",
    "print(\"CUDA available:\", torch.cuda.is_available())\n",
    "print(\"Device count:\", torch.cuda.device_count())"
   ]
  },
  {
   "cell_type": "markdown",
   "id": "63710124",
   "metadata": {},
   "source": [
    "## Compoenents of Transfomer: Multi head attention , FFN , Positional Encoding"
   ]
  },
  {
   "cell_type": "code",
   "execution_count": 57,
   "id": "1aeba21c",
   "metadata": {},
   "outputs": [],
   "source": [
    "class MultiHeadAttention(nn.Module):\n",
    "    def __init__(self,d_model,num_heads):\n",
    "        super(MultiHeadAttention,self).__init__()\n",
    "        assert d_model % num_heads == 0, \"d_model must be divisible by num_heads\"\n",
    "\n",
    "        self.d_model = d_model\n",
    "        self.num_heads = num_heads\n",
    "        self.d_k = d_model // num_heads\n",
    "\n",
    "        self.W_q = nn.Linear(d_model,d_model) #weight matrics to transform input to query\n",
    "        self.W_k = nn.Linear(d_model,d_model) #weight matrics to transform input to key\n",
    "        self.W_v = nn.Linear(d_model,d_model) #weight matrics to transform input to value\n",
    "        self.W_o = nn.Linear(d_model,d_model) #output weight metrics\n",
    "\n",
    "\n",
    "    def scaled_dot_product(self,Q,K,V,mask=None):\n",
    "\n",
    "        #matmul = matrix multiplication\n",
    "        attention_scores = torch.matmul(Q,K.transpose(-2,-1)) / math.sqrt(self.d_k) #scaled by dimension of key\n",
    "\n",
    "        if mask is not None:\n",
    "            attention_scores = attention_scores.masked_fill(mask == 0,-1e9)\n",
    "\n",
    "        attention_weights = torch.softmax(attention_scores,dim=-1)\n",
    "        output = torch.matmul(attention_weights,V)\n",
    "\n",
    "        return output\n",
    "    \n",
    "    def split_heads(self,x):\n",
    "        batch_size , seq_length , d_model = x.size()\n",
    "        return x.view(batch_size,seq_length,self.num_heads,self.d_k).transpose(1,2)\n",
    "    \n",
    "    def combine_heads(self,x):\n",
    "        batch_size , _ , seq_length , d_k = x.size()\n",
    "        return x.transpose(1,2).contiguous().view(batch_size,seq_length,self.d_model)\n",
    "    \n",
    "\n",
    "    def forward(self,Q,K,V,mask=None):\n",
    "        Q = self.split_heads(self.W_q(Q))\n",
    "        K = self.split_heads(self.W_k(K))\n",
    "        V = self.split_heads(self.W_v(V))\n",
    "\n",
    "        attention_weights = self.scaled_dot_product(Q,K,V,mask)\n",
    "        output = self.W_o(self.combine_heads(attention_weights))\n",
    "        return output"
   ]
  },
  {
   "cell_type": "code",
   "execution_count": 58,
   "id": "b7f8cac3",
   "metadata": {},
   "outputs": [],
   "source": [
    "class FeedForwardNetwork(nn.Module):\n",
    "    def __init__(self,d_model,d_ff):\n",
    "        super(FeedForwardNetwork,self).__init__()\n",
    "        self.fc1 = nn.Linear(d_model,d_ff)\n",
    "        self.fc2 = nn.Linear(d_ff,d_model)\n",
    "        self.activation = nn.ReLU()\n",
    "\n",
    "\n",
    "    def forward(self,x):\n",
    "        return self.fc2(self.activation(self.fc1(x)))"
   ]
  },
  {
   "cell_type": "code",
   "execution_count": 59,
   "id": "3b7bbba5",
   "metadata": {},
   "outputs": [],
   "source": [
    "class PositionalEncoding(nn.Module):\n",
    "    def __init__(self,d_model,max_seq_length):\n",
    "        super(PositionalEncoding,self).__init__()\n",
    "\n",
    "        position_encodings = torch.zeros(max_seq_length,d_model)\n",
    "        position = torch.arange(0,max_seq_length,dtype=torch.float).unsqueeze(1)\n",
    "        div_term = torch.exp(torch.arange(0,d_model,2).float() * -(math.log(10000.0)/d_model))\n",
    "\n",
    "        position_encodings[:, 0::2] = torch.sin(position * div_term)\n",
    "        position_encodings[:, 1::2] = torch.cos(position * div_term)\n",
    "\n",
    "        self.register_buffer('pe',position_encodings.unsqueeze(0))\n",
    "\n",
    "    def forward(self,x):\n",
    "        return x + self.pe[:,:x.size(1)]"
   ]
  },
  {
   "cell_type": "markdown",
   "id": "695fd4da",
   "metadata": {},
   "source": [
    "## Encoder component"
   ]
  },
  {
   "cell_type": "code",
   "execution_count": 60,
   "id": "0fa1d792",
   "metadata": {},
   "outputs": [],
   "source": [
    "class EncoderLayer(nn.Module):\n",
    "    def __init__(self,d_model,num_heads,d_ff,dropout):\n",
    "        super(EncoderLayer,self).__init__()\n",
    "        self.self_attention = MultiHeadAttention(d_model,num_heads)\n",
    "        self.feed_forward = FeedForwardNetwork(d_model,d_ff)\n",
    "        self.norm1 = nn.LayerNorm(d_model)\n",
    "        self.norm2 = nn.LayerNorm(d_model)\n",
    "        self.dropout = nn.Dropout(dropout)\n",
    "\n",
    "\n",
    "    def forward(self,x,mask):\n",
    "        attention_output = self.self_attention(x,x,x,mask)\n",
    "        x = self.norm1(x + self.dropout(attention_output))\n",
    "        \n",
    "        ff_output = self.feed_forward(x)\n",
    "        x = self.norm2(x+self.dropout(ff_output))\n",
    "        return x"
   ]
  },
  {
   "cell_type": "markdown",
   "id": "fe4c197e",
   "metadata": {},
   "source": [
    "## Decoder Component"
   ]
  },
  {
   "cell_type": "code",
   "execution_count": 61,
   "id": "3c7248e4",
   "metadata": {},
   "outputs": [],
   "source": [
    "class DecoderLayer(nn.Module):\n",
    "    def __init__(self,d_model,num_heads,d_ff,dropout):\n",
    "        super(DecoderLayer,self).__init__()\n",
    "        self.self_attention = MultiHeadAttention(d_model,num_heads)\n",
    "        self.cross_attention = MultiHeadAttention(d_model,num_heads)\n",
    "        self.feed_forward = FeedForwardNetwork(d_model,d_ff)\n",
    "        self.norm1 = nn.LayerNorm(d_model)\n",
    "        self.norm2 = nn.LayerNorm(d_model)\n",
    "        self.norm3 = nn.LayerNorm(d_model)\n",
    "        self.dropout = nn.Dropout(dropout)\n",
    "\n",
    "    def forward(self,x,enc_output,source_mask,target_mask):\n",
    "        attention_output = self.self_attention(x,x,x,target_mask)\n",
    "        x = self.norm1(x+self.dropout(attention_output))\n",
    "\n",
    "        attention_output = self.cross_attention(x,enc_output,enc_output,source_mask)\n",
    "        x = self.norm2(x+self.dropout(attention_output))\n",
    "\n",
    "        ff_output = self.feed_forward(x)\n",
    "        x = self.norm3(x+self.dropout(ff_output))\n",
    "\n",
    "        return x\n"
   ]
  },
  {
   "cell_type": "markdown",
   "id": "8ee94914",
   "metadata": {},
   "source": [
    "## Full transformer"
   ]
  },
  {
   "cell_type": "code",
   "execution_count": 62,
   "id": "fc7ee01b",
   "metadata": {},
   "outputs": [],
   "source": [
    "class Transformer(nn.Module):\n",
    "    def __init__(self,source_vocab_size,target_vocab_size,d_model,num_heads,num_layers,d_ff,max_seq_length,dropout):\n",
    "        super(Transformer,self).__init__()\n",
    "\n",
    "        self.encoder_embedding = nn.Embedding(source_vocab_size,d_model)\n",
    "        self.decoder_embedding = nn.Embedding(target_vocab_size,d_model)\n",
    "        self.positional_encoding = PositionalEncoding(d_model,max_seq_length)\n",
    "\n",
    "        self.encoder_layers = nn.ModuleList([EncoderLayer(d_model,num_heads,d_ff,dropout) for _ in range(num_layers)])\n",
    "        self.decoder_layers = nn.ModuleList([DecoderLayer(d_model,num_heads,d_ff,dropout) for _ in range(num_layers)])\n",
    "\n",
    "        self.fc = nn.Linear(d_model,target_vocab_size)\n",
    "        self.dropout = nn.Dropout(dropout)\n",
    "\n",
    "    def generate_mask(self,source,target):\n",
    "        source_mask = (source != 0).unsqueeze(1).unsqueeze(2)\n",
    "        target_mask = (target != 0).unsqueeze(1).unsqueeze(3)\n",
    "\n",
    "        seq_length = target.size(1)\n",
    "        nopeak_mask = (1 - torch.triu(torch.ones(1,seq_length,seq_length),diagonal=1)).bool()\n",
    "\n",
    "        target_mask = target_mask & nopeak_mask\n",
    "        return source_mask , target_mask\n",
    "    \n",
    "    def forward(self,source,target):\n",
    "        source_mask , target_mask = self.generate_mask(source,target)\n",
    "\n",
    "        source_embedded = self.dropout(self.positional_encoding(self.encoder_embedding(source)))\n",
    "        target_embedded = self.dropout(self.positional_encoding(self.decoder_embedding(target)))\n",
    "\n",
    "        encoder_output = source_embedded\n",
    "        for encoder_layer in self.encoder_layers:\n",
    "            encoder_output = encoder_layer(encoder_output,source_mask)\n",
    "\n",
    "        decoder_output = target_embedded\n",
    "        for decoder_layer in self.decoder_layers:\n",
    "            decoder_output = decoder_layer(decoder_output,encoder_output,source_mask,target_mask)\n",
    "\n",
    "\n",
    "        #this output layer changes acorrding to task like NER/sentiment analysis\n",
    "        output = self.fc(decoder_output)\n",
    "        return output"
   ]
  },
  {
   "cell_type": "markdown",
   "id": "99172328",
   "metadata": {},
   "source": [
    "## Test Transformer"
   ]
  },
  {
   "cell_type": "code",
   "execution_count": 63,
   "id": "81796512",
   "metadata": {},
   "outputs": [],
   "source": [
    "src_vocab_size = 5000\n",
    "tgt_vocab_size = 5000\n",
    "d_model = 512\n",
    "num_heads = 8\n",
    "num_layers = 6\n",
    "d_ff = 2048\n",
    "max_seq_length = 100\n",
    "dropout = 0.1\n",
    "\n",
    "transformer = Transformer(src_vocab_size, tgt_vocab_size, d_model, num_heads, num_layers, d_ff, max_seq_length, dropout)\n",
    "\n",
    "# Generate random sample data\n",
    "src_data = torch.randint(1, src_vocab_size, (64, max_seq_length))  # (batch_size, seq_length)\n",
    "tgt_data = torch.randint(1, tgt_vocab_size, (64, max_seq_length))  # (batch_size, seq_length)"
   ]
  },
  {
   "cell_type": "code",
   "execution_count": 64,
   "id": "02e38b10",
   "metadata": {},
   "outputs": [
    {
     "name": "stdout",
     "output_type": "stream",
     "text": [
      "Epoch: 1, Loss: 8.674558639526367\n",
      "Epoch: 2, Loss: 8.548917770385742\n",
      "Epoch: 3, Loss: 8.481816291809082\n",
      "Epoch: 4, Loss: 8.4260835647583\n",
      "Epoch: 5, Loss: 8.3640775680542\n",
      "Epoch: 6, Loss: 8.289196014404297\n",
      "Epoch: 7, Loss: 8.203639030456543\n",
      "Epoch: 8, Loss: 8.126835823059082\n",
      "Epoch: 9, Loss: 8.052165985107422\n",
      "Epoch: 10, Loss: 7.960622310638428\n"
     ]
    }
   ],
   "source": [
    "criterion = nn.CrossEntropyLoss(ignore_index=0)\n",
    "optimizer = optim.Adam(transformer.parameters(), lr=0.0001, betas=(0.9, 0.98), eps=1e-9)\n",
    "\n",
    "transformer.train()\n",
    "\n",
    "for epoch in range(10):\n",
    "    optimizer.zero_grad()\n",
    "    output = transformer(src_data, tgt_data[:, :-1])\n",
    "    loss = criterion(output.contiguous().view(-1, tgt_vocab_size), tgt_data[:, 1:].contiguous().view(-1))\n",
    "    loss.backward()\n",
    "    optimizer.step()\n",
    "    print(f\"Epoch: {epoch+1}, Loss: {loss.item()}\")"
   ]
  }
 ],
 "metadata": {
  "kernelspec": {
   "display_name": "ml-env",
   "language": "python",
   "name": "python3"
  },
  "language_info": {
   "codemirror_mode": {
    "name": "ipython",
    "version": 3
   },
   "file_extension": ".py",
   "mimetype": "text/x-python",
   "name": "python",
   "nbconvert_exporter": "python",
   "pygments_lexer": "ipython3",
   "version": "3.12.12"
  }
 },
 "nbformat": 4,
 "nbformat_minor": 5
}
